{
  "nbformat": 4,
  "nbformat_minor": 0,
  "metadata": {
    "colab": {
      "provenance": [],
      "authorship_tag": "ABX9TyMBNcXdXYJVYyi/F9z1LU3r",
      "include_colab_link": true
    },
    "kernelspec": {
      "name": "python3",
      "display_name": "Python 3"
    },
    "language_info": {
      "name": "python"
    }
  },
  "cells": [
    {
      "cell_type": "markdown",
      "metadata": {
        "id": "view-in-github",
        "colab_type": "text"
      },
      "source": [
        "<a href=\"https://colab.research.google.com/github/ramiparvin786/lab1demo/blob/main/Untitled24.ipynb\" target=\"_parent\"><img src=\"https://colab.research.google.com/assets/colab-badge.svg\" alt=\"Open In Colab\"/></a>"
      ]
    },
    {
      "cell_type": "code",
      "execution_count": 1,
      "metadata": {
        "colab": {
          "base_uri": "https://localhost:8080/"
        },
        "id": "5QLpyQX3JQZH",
        "outputId": "4a885a70-a4ad-461f-b578-0367b5aa5dbe"
      },
      "outputs": [
        {
          "output_type": "stream",
          "name": "stdout",
          "text": [
            "Week 1: ₹11600\n",
            "Week 2: ₹11600\n",
            "Week 3: ₹11600\n",
            "Week 4: ₹11600\n",
            "\n",
            "Total Monthly Income: ₹ 46400\n",
            "Annual Income: ₹ 139200.0\n"
          ]
        }
      ],
      "source": [
        "#1 Employee Monthly and Annual Income\n",
        "hourly_rate = 250\n",
        "overtime_rate = 100\n",
        "hours_worked = 56\n",
        "regular_hours = 40\n",
        "monthly_income = 0\n",
        "\n",
        "\n",
        "for week in range(1, 5):\n",
        "    if hours_worked > regular_hours:\n",
        "        overtime_hours = hours_worked - regular_hours\n",
        "        regular_pay = regular_hours * hourly_rate\n",
        "        overtime_pay = overtime_hours * overtime_rate\n",
        "    else:\n",
        "        regular_pay = hours_worked * hourly_rate\n",
        "        overtime_pay = 0\n",
        "\n",
        "    weekly_income = regular_pay + overtime_pay\n",
        "    monthly_income += weekly_income\n",
        "    print(f\"Week {week}: ₹{weekly_income}\")\n",
        "\n",
        "\n",
        "annual_income = monthly_income * 12 / 4\n",
        "\n",
        "\n",
        "print(\"\\nTotal Monthly Income: ₹\", monthly_income)\n",
        "print(\"Annual Income: ₹\", annual_income)\n"
      ]
    },
    {
      "cell_type": "code",
      "source": [
        "#2 ELECTRICITY BILL CALCULATOR\n",
        "n = int(input(\"Enter number of users: \"))\n",
        "\n",
        "for i in range(n):\n",
        "    print(f\"\\nUser {i+1}:\")\n",
        "    units = int(input(\"Enter units consumed: \"))\n",
        "    type = input(\"Enter type (household/commercial): \").strip().lower()\n",
        "    bill = 0\n",
        "\n",
        "    if units <= 100:\n",
        "        bill = units * 0.50\n",
        "    elif units <= 200:\n",
        "        bill = (100 * 0.50) + ((units - 100) * 0.75)\n",
        "    elif units <= 300:\n",
        "        bill = (100 * 0.50) + (100 * 0.75) + ((units - 200) * 1.20)\n",
        "    else:\n",
        "        bill = (100 * 0.50) + (100 * 0.75) + (100 * 1.20) + ((units - 300) * 1.50)\n",
        "\n",
        "    if type == \"commercial\":\n",
        "        bill *= 2\n",
        "\n",
        "    print(\"Total bill = ₹\", round(bill, 2))\n"
      ],
      "metadata": {
        "colab": {
          "base_uri": "https://localhost:8080/"
        },
        "id": "nicJukrsLpA0",
        "outputId": "27e670ee-19ba-4a08-fad9-b2760c38ae29"
      },
      "execution_count": 2,
      "outputs": [
        {
          "output_type": "stream",
          "name": "stdout",
          "text": [
            "Enter number of users: 3\n",
            "\n",
            "User 1:\n",
            "Enter units consumed: 250\n",
            "Enter type (household/commercial): household\n",
            "Total bill = ₹ 185.0\n",
            "\n",
            "User 2:\n",
            "Enter units consumed: 300\n",
            "Enter type (household/commercial): commercial\n",
            "Total bill = ₹ 490.0\n",
            "\n",
            "User 3:\n",
            "Enter units consumed: 350\n",
            "Enter type (household/commercial): commercial\n",
            "Total bill = ₹ 640.0\n"
          ]
        }
      ]
    },
    {
      "cell_type": "code",
      "source": [
        "#1 Data Science Quiz Program\n",
        "def quiz():\n",
        "    questions = {\n",
        "        \"1. What is the full form of CSV?\": \"comma separated values\",\n",
        "        \"2. Which library is used for data visualization in Python?\": \"matplotlib\",\n",
        "        \"3. What does NaN stand for in data?\": \"not a number\",\n",
        "        \"4. Which Python library is used for data manipulation?\": \"pandas\",\n",
        "        \"5. What is the output of 2 ** 3 in Python?\": \"8\"\n",
        "    }\n",
        "\n",
        "    score = 0\n",
        "    print(\" Data Science Quiz - Each correct: +2 | Wrong: -1 | Total Marks: 10\\n\")\n",
        "\n",
        "    for q, ans in questions.items():\n",
        "        user_ans = input(q + \"\\nYour Answer: \").strip().lower()\n",
        "        if user_ans == ans.lower():\n",
        "            score += 2\n",
        "        else:\n",
        "            score -= 1\n",
        "\n",
        "    print(f\"\\n Your Total Score: {score} / 10\")\n",
        "\n",
        "\n",
        "quiz()\n"
      ],
      "metadata": {
        "colab": {
          "base_uri": "https://localhost:8080/"
        },
        "id": "uVHbQ6ZZMdFd",
        "outputId": "2643709d-811c-498e-ed96-cab72b40ba13"
      },
      "execution_count": 3,
      "outputs": [
        {
          "output_type": "stream",
          "name": "stdout",
          "text": [
            " Data Science Quiz - Each correct: +2 | Wrong: -1 | Total Marks: 10\n",
            "\n",
            "1. What is the full form of CSV?\n",
            "Your Answer: comma separated values\n",
            "2. Which library is used for data visualization in Python?\n",
            "Your Answer: matplotlib\n",
            "3. What does NaN stand for in data?\n",
            "Your Answer: not a number\n",
            "4. Which Python library is used for data manipulation?\n",
            "Your Answer: pandas\n",
            "5. What is the output of 2 ** 3 in Python?\n",
            "Your Answer: 8\n",
            "\n",
            " Your Total Score: 10 / 10\n"
          ]
        }
      ]
    },
    {
      "cell_type": "code",
      "source": [
        "#2 Gross and Net Salary Calculation\n",
        "class Employee:\n",
        "    def __init__(self, name, basic_salary):\n",
        "        self.name = name\n",
        "        self.basic = basic_salary\n",
        "\n",
        "\n",
        "class Salary(Employee):\n",
        "    def calculate_salary(self):\n",
        "\n",
        "        da = 0.20 * self.basic\n",
        "        hra = 0.10 * self.basic\n",
        "        pf = 0.12 * self.basic\n",
        "        ta = 0.075 * self.basic\n",
        "\n",
        "\n",
        "        emi = 0.02 * self.basic\n",
        "\n",
        "        gross_salary = self.basic + da + hra + ta\n",
        "        net_salary = gross_salary - (pf + emi)\n",
        "\n",
        "        print(f\"\\nSalary Details for {self.name}\")\n",
        "        print(f\"Basic Salary: ₹{self.basic:.2f}\")\n",
        "        print(f\"DA (20%): ₹{da:.2f}\")\n",
        "        print(f\"HRA (10%): ₹{hra:.2f}\")\n",
        "        print(f\"TA (7.5%): ₹{ta:.2f}\")\n",
        "        print(f\"PF Deduction (12%): ₹{pf:.2f}\")\n",
        "        print(f\"EMI Deduction (2%): ₹{emi:.2f}\")\n",
        "        print(f\"Gross Salary: ₹{gross_salary:.2f}\")\n",
        "        print(f\"Net Salary: ₹{net_salary:.2f}\")\n",
        "\n",
        "\n",
        "name = input(\"Enter Employee Name: \")\n",
        "basic_salary = float(input(\"Enter Basic Salary: ₹\"))\n",
        "\n",
        "emp = Salary(name, basic_salary)\n",
        "emp.calculate_salary()\n"
      ],
      "metadata": {
        "colab": {
          "base_uri": "https://localhost:8080/"
        },
        "id": "mEjFnUjoNNFV",
        "outputId": "f9763d0a-e1c1-4c82-c9ba-bcdb656d23db"
      },
      "execution_count": 4,
      "outputs": [
        {
          "output_type": "stream",
          "name": "stdout",
          "text": [
            "Enter Employee Name: raja\n",
            "Enter Basic Salary: ₹10000\n",
            "\n",
            "Salary Details for raja\n",
            "Basic Salary: ₹10000.00\n",
            "DA (20%): ₹2000.00\n",
            "HRA (10%): ₹1000.00\n",
            "TA (7.5%): ₹750.00\n",
            "PF Deduction (12%): ₹1200.00\n",
            "EMI Deduction (2%): ₹200.00\n",
            "Gross Salary: ₹13750.00\n",
            "Net Salary: ₹12350.00\n"
          ]
        }
      ]
    },
    {
      "cell_type": "code",
      "source": [
        "import os\n",
        "from git import Repo\n",
        "\n",
        "# create folder and go into it\n",
        "os.mkdir(\"Scythe\")\n",
        "os.chdir(\"Scythe\")\n",
        "\n",
        "# init git\n",
        "repo = Repo.init(\".\")\n",
        "\n",
        "# create a file and rename it\n",
        "with open(\"README\", \"w\") as f:\n",
        "    f.write(\"This is a README file\\n\")\n",
        "\n",
        "os.rename(\"README\", \"README.txt\")\n",
        "\n",
        "# add and commit\n",
        "repo.index.add([\"README.txt\"])\n",
        "repo.index.commit(\"First commit\")\n",
        "\n",
        "# URL\n",
        "url = \"https://github.com/ramiparvin786/lab1demo.git\"\n",
        "\n",
        "# add remote\n",
        "try:\n",
        "    remote = repo.create_remote(\"origin\", url)\n",
        "except:\n",
        "    remote = repo.remotes.origin\n",
        "\n",
        "# pull (if needed)\n",
        "try:\n",
        "    remote.pull()\n",
        "except:\n",
        "    pass\n",
        "\n",
        "# status\n",
        "print(repo.git.status())\n",
        "\n",
        "# modify file\n",
        "with open(\"README.txt\", \"a\") as f:\n",
        "    f.write(\"Extra line added\\n\")\n",
        "\n",
        "# show diff\n",
        "print(repo.git.diff())\n",
        "\n",
        "# commit again\n",
        "repo.index.add([\"README.txt\"])\n",
        "repo.index.commit(\"Second commit\")\n",
        "\n",
        "# show log\n",
        "for c in repo.iter_commits():\n",
        "    print(c.message)\n",
        "\n",
        "# create branch and switch\n",
        "branch = repo.create_head(\"feature\")\n",
        "branch.checkout()"
      ],
      "metadata": {
        "colab": {
          "base_uri": "https://localhost:8080/"
        },
        "id": "UaUMC-h9anrs",
        "outputId": "f5914d47-c9cb-403f-9d4c-34c063910710"
      },
      "execution_count": 5,
      "outputs": [
        {
          "output_type": "stream",
          "name": "stdout",
          "text": [
            "On branch master\n",
            "nothing to commit, working tree clean\n",
            "diff --git a/README.txt b/README.txt\n",
            "index c39619d..024de15 100644\n",
            "--- a/README.txt\n",
            "+++ b/README.txt\n",
            "@@ -1 +1,2 @@\n",
            " This is a README file\n",
            "+Extra line added\n",
            "Second commit\n",
            "First commit\n"
          ]
        },
        {
          "output_type": "execute_result",
          "data": {
            "text/plain": [
              "<git.Head \"refs/heads/feature\">"
            ]
          },
          "metadata": {},
          "execution_count": 5
        }
      ]
    }
  ]
}